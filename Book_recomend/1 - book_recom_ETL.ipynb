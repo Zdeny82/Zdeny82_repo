{
 "cells": [
  {
   "cell_type": "code",
   "execution_count": 23,
   "metadata": {},
   "outputs": [],
   "source": [
    "# import\n",
    "import pandas as pd"
   ]
  },
  {
   "cell_type": "markdown",
   "metadata": {},
   "source": [
    "# 1 - ETL"
   ]
  },
  {
   "cell_type": "code",
   "execution_count": 24,
   "metadata": {},
   "outputs": [],
   "source": [
    "# ETL process\n",
    "# A) Check the values of the ratings, books\n",
    "# B) Remove NaN values of the ratings, books\n",
    "# C) Merge datasets of the ratings, books\n",
    "# D) Remove duplicate rows\n",
    "# E) Convert data types\n",
    "# F) Save the cleaned data\n"
   ]
  },
  {
   "cell_type": "code",
   "execution_count": 25,
   "metadata": {},
   "outputs": [],
   "source": [
    "# load ratings\n",
    "ratings = pd.read_csv('Original_Ratings.csv', encoding='CP1251', sep=',', low_memory=False)"
   ]
  },
  {
   "cell_type": "markdown",
   "metadata": {},
   "source": [
    "## Ratings"
   ]
  },
  {
   "cell_type": "markdown",
   "metadata": {},
   "source": [
    "### Check the values"
   ]
  },
  {
   "cell_type": "code",
   "execution_count": 26,
   "metadata": {},
   "outputs": [
    {
     "name": "stdout",
     "output_type": "stream",
     "text": [
      "<class 'pandas.core.frame.DataFrame'>\n",
      "RangeIndex: 1149780 entries, 0 to 1149779\n",
      "Data columns (total 3 columns):\n",
      " #   Column       Non-Null Count    Dtype \n",
      "---  ------       --------------    ----- \n",
      " 0   User-ID      1149780 non-null  int64 \n",
      " 1   ISBN         1149780 non-null  object\n",
      " 2   Book-Rating  1149780 non-null  int64 \n",
      "dtypes: int64(2), object(1)\n",
      "memory usage: 26.3+ MB\n"
     ]
    },
    {
     "data": {
      "text/plain": [
       "array([ 0,  5,  3,  6,  8,  7, 10,  9,  4,  1,  2], dtype=int64)"
      ]
     },
     "execution_count": 26,
     "metadata": {},
     "output_type": "execute_result"
    }
   ],
   "source": [
    "# A) Check the values of the ratings\n",
    "ratings.head()\n",
    "ratings.info()\n",
    "ratings['Book-Rating'].unique()\n",
    "\n",
    "# ratings['ISBN'].unique()\n",
    "\n",
    "# It is used in the ISBN-10 system because the last position requires a digit that satisfies the checksum algorithm (modulo 11)\n",
    "# ratings['User-ID'].unique()"
   ]
  },
  {
   "cell_type": "code",
   "execution_count": 27,
   "metadata": {},
   "outputs": [
    {
     "data": {
      "text/html": [
       "<div>\n",
       "<style scoped>\n",
       "    .dataframe tbody tr th:only-of-type {\n",
       "        vertical-align: middle;\n",
       "    }\n",
       "\n",
       "    .dataframe tbody tr th {\n",
       "        vertical-align: top;\n",
       "    }\n",
       "\n",
       "    .dataframe thead th {\n",
       "        text-align: right;\n",
       "    }\n",
       "</style>\n",
       "<table border=\"1\" class=\"dataframe\">\n",
       "  <thead>\n",
       "    <tr style=\"text-align: right;\">\n",
       "      <th></th>\n",
       "      <th>User-ID</th>\n",
       "      <th>ISBN</th>\n",
       "      <th>Book-Rating</th>\n",
       "    </tr>\n",
       "  </thead>\n",
       "  <tbody>\n",
       "    <tr>\n",
       "      <th>42908</th>\n",
       "      <td>11224</td>\n",
       "      <td>0380710811</td>\n",
       "      <td>1</td>\n",
       "    </tr>\n",
       "    <tr>\n",
       "      <th>103545</th>\n",
       "      <td>23872</td>\n",
       "      <td>0843938331</td>\n",
       "      <td>1</td>\n",
       "    </tr>\n",
       "    <tr>\n",
       "      <th>791727</th>\n",
       "      <td>191154</td>\n",
       "      <td>0140272917</td>\n",
       "      <td>1</td>\n",
       "    </tr>\n",
       "    <tr>\n",
       "      <th>576669</th>\n",
       "      <td>138763</td>\n",
       "      <td>3442437407</td>\n",
       "      <td>1</td>\n",
       "    </tr>\n",
       "    <tr>\n",
       "      <th>576671</th>\n",
       "      <td>138763</td>\n",
       "      <td>3462033360</td>\n",
       "      <td>1</td>\n",
       "    </tr>\n",
       "    <tr>\n",
       "      <th>...</th>\n",
       "      <td>...</td>\n",
       "      <td>...</td>\n",
       "      <td>...</td>\n",
       "    </tr>\n",
       "    <tr>\n",
       "      <th>860589</th>\n",
       "      <td>208141</td>\n",
       "      <td>0916856003</td>\n",
       "      <td>10</td>\n",
       "    </tr>\n",
       "    <tr>\n",
       "      <th>860588</th>\n",
       "      <td>208141</td>\n",
       "      <td>0898799996</td>\n",
       "      <td>10</td>\n",
       "    </tr>\n",
       "    <tr>\n",
       "      <th>860587</th>\n",
       "      <td>208141</td>\n",
       "      <td>0898799430</td>\n",
       "      <td>10</td>\n",
       "    </tr>\n",
       "    <tr>\n",
       "      <th>860635</th>\n",
       "      <td>208141</td>\n",
       "      <td>1888608269</td>\n",
       "      <td>10</td>\n",
       "    </tr>\n",
       "    <tr>\n",
       "      <th>547247</th>\n",
       "      <td>131346</td>\n",
       "      <td>3150085780</td>\n",
       "      <td>10</td>\n",
       "    </tr>\n",
       "  </tbody>\n",
       "</table>\n",
       "<p>433671 rows × 3 columns</p>\n",
       "</div>"
      ],
      "text/plain": [
       "        User-ID        ISBN  Book-Rating\n",
       "42908     11224  0380710811            1\n",
       "103545    23872  0843938331            1\n",
       "791727   191154  0140272917            1\n",
       "576669   138763  3442437407            1\n",
       "576671   138763  3462033360            1\n",
       "...         ...         ...          ...\n",
       "860589   208141  0916856003           10\n",
       "860588   208141  0898799996           10\n",
       "860587   208141  0898799430           10\n",
       "860635   208141  1888608269           10\n",
       "547247   131346  3150085780           10\n",
       "\n",
       "[433671 rows x 3 columns]"
      ]
     },
     "execution_count": 27,
     "metadata": {},
     "output_type": "execute_result"
    }
   ],
   "source": [
    "# Zero means interaktion with the book but no rating, so we will remove these rows:\n",
    "\n",
    "ratings = ratings[ratings['Book-Rating']!=0] # remove 0\n",
    "ratings.sort_values(by='Book-Rating', ascending=True)\n",
    "\n",
    "# ratings"
   ]
  },
  {
   "cell_type": "code",
   "execution_count": 28,
   "metadata": {},
   "outputs": [],
   "source": [
    "# Check the 0 values of the ratings\n",
    "\n",
    "ratings_zero_inkl = ratings.copy()\n",
    "ratings = ratings[ratings['Book-Rating']!=0] # remove 0\n",
    "ratings.sort_values(by='Book-Rating', ascending=True)\n",
    "\n",
    "ratio = round(len(ratings)/len(ratings_zero_inkl),2) * 100"
   ]
  },
  {
   "cell_type": "code",
   "execution_count": 29,
   "metadata": {},
   "outputs": [
    {
     "name": "stdout",
     "output_type": "stream",
     "text": [
      "<class 'pandas.core.frame.DataFrame'>\n",
      "Index: 433671 entries, 1 to 1149779\n",
      "Data columns (total 3 columns):\n",
      " #   Column       Non-Null Count   Dtype \n",
      "---  ------       --------------   ----- \n",
      " 0   User-ID      433671 non-null  int64 \n",
      " 1   ISBN         433671 non-null  object\n",
      " 2   Book-Rating  433671 non-null  int64 \n",
      "dtypes: int64(2), object(1)\n",
      "memory usage: 13.2+ MB\n"
     ]
    }
   ],
   "source": [
    "ratings.info() # raw dataset without 0 (Ratings)\n",
    "\n",
    "# B) Remove NaN values of the ratings\n",
    "# checked, pass no NaN values"
   ]
  },
  {
   "cell_type": "markdown",
   "metadata": {},
   "source": [
    "## Books"
   ]
  },
  {
   "cell_type": "code",
   "execution_count": 30,
   "metadata": {},
   "outputs": [
    {
     "name": "stdout",
     "output_type": "stream",
     "text": [
      "<class 'pandas.core.frame.DataFrame'>\n",
      "RangeIndex: 271360 entries, 0 to 271359\n",
      "Data columns (total 8 columns):\n",
      " #   Column               Non-Null Count   Dtype \n",
      "---  ------               --------------   ----- \n",
      " 0   ISBN                 271360 non-null  object\n",
      " 1   Book-Title           271360 non-null  object\n",
      " 2   Book-Author          271358 non-null  object\n",
      " 3   Year-Of-Publication  271360 non-null  object\n",
      " 4   Publisher            271358 non-null  object\n",
      " 5   Image-URL-S          271360 non-null  object\n",
      " 6   Image-URL-M          271360 non-null  object\n",
      " 7   Image-URL-L          271357 non-null  object\n",
      "dtypes: object(8)\n",
      "memory usage: 16.6+ MB\n"
     ]
    },
    {
     "name": "stderr",
     "output_type": "stream",
     "text": [
      "C:\\Users\\Stepankovi\\AppData\\Local\\Temp\\ipykernel_13692\\3207294697.py:2: DtypeWarning: Columns (3) have mixed types. Specify dtype option on import or set low_memory=False.\n",
      "  books_raw = pd.read_csv('Original_Books.csv',  encoding='CP1251', sep=',') #on_bad_lines='skip' - nechceme přijít o data\n"
     ]
    }
   ],
   "source": [
    "# load books\n",
    "books_raw = pd.read_csv('Original_Books.csv',  encoding='CP1251', sep=',') #on_bad_lines='skip' - nechceme přijít o data\n",
    "# DtypeWarning: Columns (3) have mixed types.\n",
    "\n",
    "# A) Check the values of the ratings\n",
    "books_raw.info()"
   ]
  },
  {
   "cell_type": "code",
   "execution_count": 31,
   "metadata": {},
   "outputs": [
    {
     "data": {
      "text/plain": [
       "[209538, 220731, 221678]"
      ]
     },
     "execution_count": 31,
     "metadata": {},
     "output_type": "execute_result"
    }
   ],
   "source": [
    "# unnecessary saving of the three rows\n",
    "books_raw\n",
    "\n",
    "# Year-Of-Publication mixed types\n",
    "books_raw['Year-Of-Publication'].unique()\n",
    "\n",
    "# Filter the rows with the values 'DK Publishing Inc', 'Gallimard'\n",
    "books_raw[books_raw['Year-Of-Publication'].isin(['DK Publishing Inc', 'Gallimard'])]\n",
    "\n",
    "# books['Book-Author'] = books.loc[books['Year-Of-Publication'].isin(['DK Publishing Inc', 'Gallimard']), 'Year-Of-Publication']\n",
    "\n",
    "# Save the indexes\n",
    "indexes = list(books_raw[books_raw['Year-Of-Publication'].isin(['DK Publishing Inc', 'Gallimard'])].index)\n",
    "indexes\n"
   ]
  },
  {
   "cell_type": "code",
   "execution_count": 32,
   "metadata": {},
   "outputs": [
    {
     "data": {
      "text/html": [
       "<div>\n",
       "<style scoped>\n",
       "    .dataframe tbody tr th:only-of-type {\n",
       "        vertical-align: middle;\n",
       "    }\n",
       "\n",
       "    .dataframe tbody tr th {\n",
       "        vertical-align: top;\n",
       "    }\n",
       "\n",
       "    .dataframe thead th {\n",
       "        text-align: right;\n",
       "    }\n",
       "</style>\n",
       "<table border=\"1\" class=\"dataframe\">\n",
       "  <thead>\n",
       "    <tr style=\"text-align: right;\">\n",
       "      <th></th>\n",
       "      <th>ISBN</th>\n",
       "      <th>Book-Title</th>\n",
       "      <th>Book-Author</th>\n",
       "      <th>Year-Of-Publication</th>\n",
       "      <th>Publisher</th>\n",
       "      <th>Image-URL-S</th>\n",
       "      <th>Image-URL-M</th>\n",
       "      <th>Image-URL-L</th>\n",
       "    </tr>\n",
       "  </thead>\n",
       "  <tbody>\n",
       "    <tr>\n",
       "      <th>209538</th>\n",
       "      <td>078946697X</td>\n",
       "      <td>DK Readers: Creating the X-Men, How It All Beg...</td>\n",
       "      <td>2000</td>\n",
       "      <td>2000</td>\n",
       "      <td>DK Publishing Inc</td>\n",
       "      <td>http://images.amazon.com/images/P/078946697X.0...</td>\n",
       "      <td>http://images.amazon.com/images/P/078946697X.0...</td>\n",
       "      <td>http://images.amazon.com/images/P/078946697X.0...</td>\n",
       "    </tr>\n",
       "    <tr>\n",
       "      <th>220731</th>\n",
       "      <td>2070426769</td>\n",
       "      <td>Peuple du ciel, suivi de 'Les Bergers\\\";Jean-M...</td>\n",
       "      <td>2003</td>\n",
       "      <td>2003</td>\n",
       "      <td>Gallimard</td>\n",
       "      <td>http://images.amazon.com/images/P/2070426769.0...</td>\n",
       "      <td>http://images.amazon.com/images/P/2070426769.0...</td>\n",
       "      <td>http://images.amazon.com/images/P/2070426769.0...</td>\n",
       "    </tr>\n",
       "    <tr>\n",
       "      <th>221678</th>\n",
       "      <td>0789466953</td>\n",
       "      <td>DK Readers: Creating the X-Men, How Comic Book...</td>\n",
       "      <td>2000</td>\n",
       "      <td>2000</td>\n",
       "      <td>DK Publishing Inc</td>\n",
       "      <td>http://images.amazon.com/images/P/0789466953.0...</td>\n",
       "      <td>http://images.amazon.com/images/P/0789466953.0...</td>\n",
       "      <td>http://images.amazon.com/images/P/0789466953.0...</td>\n",
       "    </tr>\n",
       "  </tbody>\n",
       "</table>\n",
       "</div>"
      ],
      "text/plain": [
       "              ISBN                                         Book-Title  \\\n",
       "209538  078946697X  DK Readers: Creating the X-Men, How It All Beg...   \n",
       "220731  2070426769  Peuple du ciel, suivi de 'Les Bergers\\\";Jean-M...   \n",
       "221678  0789466953  DK Readers: Creating the X-Men, How Comic Book...   \n",
       "\n",
       "       Book-Author Year-Of-Publication          Publisher  \\\n",
       "209538        2000                2000  DK Publishing Inc   \n",
       "220731        2003                2003          Gallimard   \n",
       "221678        2000                2000  DK Publishing Inc   \n",
       "\n",
       "                                              Image-URL-S  \\\n",
       "209538  http://images.amazon.com/images/P/078946697X.0...   \n",
       "220731  http://images.amazon.com/images/P/2070426769.0...   \n",
       "221678  http://images.amazon.com/images/P/0789466953.0...   \n",
       "\n",
       "                                              Image-URL-M  \\\n",
       "209538  http://images.amazon.com/images/P/078946697X.0...   \n",
       "220731  http://images.amazon.com/images/P/2070426769.0...   \n",
       "221678  http://images.amazon.com/images/P/0789466953.0...   \n",
       "\n",
       "                                              Image-URL-L  \n",
       "209538  http://images.amazon.com/images/P/078946697X.0...  \n",
       "220731  http://images.amazon.com/images/P/2070426769.0...  \n",
       "221678  http://images.amazon.com/images/P/0789466953.0...  "
      ]
     },
     "execution_count": 32,
     "metadata": {},
     "output_type": "execute_result"
    }
   ],
   "source": [
    "# filter condition\n",
    "filter_condition = books_raw['Year-Of-Publication'].isin(['DK Publishing Inc', 'Gallimard'])\n",
    "\n",
    "# Následně můžete pracovat s touto filtrovací proměnnou\n",
    "books_raw.loc[filter_condition, 'Image-URL-L'] = books_raw.loc[filter_condition, 'Image-URL-M']\n",
    "books_raw.loc[filter_condition, 'Image-URL-M'] = books_raw.loc[filter_condition, 'Image-URL-S']\n",
    "books_raw.loc[filter_condition, 'Image-URL-S'] = books_raw.loc[filter_condition, 'Publisher']\n",
    "books_raw.loc[filter_condition, 'Publisher'] = books_raw.loc[filter_condition, 'Year-Of-Publication']\n",
    "books_raw.loc[filter_condition, 'Year-Of-Publication'] = books_raw.loc[filter_condition, 'Book-Author']\n",
    "books_raw.loc[filter_condition, 'Book-Author'] = books_raw.loc[filter_condition, 'Book-Author']\n",
    "\n",
    "books_raw.loc[[209538, 220731, 221678]]"
   ]
  },
  {
   "cell_type": "code",
   "execution_count": 33,
   "metadata": {},
   "outputs": [
    {
     "data": {
      "text/html": [
       "<div>\n",
       "<style scoped>\n",
       "    .dataframe tbody tr th:only-of-type {\n",
       "        vertical-align: middle;\n",
       "    }\n",
       "\n",
       "    .dataframe tbody tr th {\n",
       "        vertical-align: top;\n",
       "    }\n",
       "\n",
       "    .dataframe thead th {\n",
       "        text-align: right;\n",
       "    }\n",
       "</style>\n",
       "<table border=\"1\" class=\"dataframe\">\n",
       "  <thead>\n",
       "    <tr style=\"text-align: right;\">\n",
       "      <th></th>\n",
       "      <th>ISBN</th>\n",
       "      <th>Book-Title</th>\n",
       "      <th>Book-Author</th>\n",
       "      <th>Year-Of-Publication</th>\n",
       "      <th>Publisher</th>\n",
       "      <th>Image-URL-S</th>\n",
       "      <th>Image-URL-M</th>\n",
       "      <th>Image-URL-L</th>\n",
       "    </tr>\n",
       "  </thead>\n",
       "  <tbody>\n",
       "    <tr>\n",
       "      <th>209538</th>\n",
       "      <td>078946697X</td>\n",
       "      <td>DK Readers: Creating the X-Men, How It All Beg...</td>\n",
       "      <td>Michael Teitelbaum</td>\n",
       "      <td>2000</td>\n",
       "      <td>DK Publishing Inc</td>\n",
       "      <td>http://images.amazon.com/images/P/078946697X.0...</td>\n",
       "      <td>http://images.amazon.com/images/P/078946697X.0...</td>\n",
       "      <td>http://images.amazon.com/images/P/078946697X.0...</td>\n",
       "    </tr>\n",
       "    <tr>\n",
       "      <th>220731</th>\n",
       "      <td>2070426769</td>\n",
       "      <td>Peuple du ciel, suivi de Les Bergers</td>\n",
       "      <td>Jean-Marie Gustave Le Clézio</td>\n",
       "      <td>2003</td>\n",
       "      <td>Gallimard</td>\n",
       "      <td>http://images.amazon.com/images/P/2070426769.0...</td>\n",
       "      <td>http://images.amazon.com/images/P/2070426769.0...</td>\n",
       "      <td>http://images.amazon.com/images/P/2070426769.0...</td>\n",
       "    </tr>\n",
       "    <tr>\n",
       "      <th>221678</th>\n",
       "      <td>0789466953</td>\n",
       "      <td>DK Readers: Creating the X-Men, How Comic Book...</td>\n",
       "      <td>James Buckley</td>\n",
       "      <td>2000</td>\n",
       "      <td>DK Publishing Inc</td>\n",
       "      <td>http://images.amazon.com/images/P/0789466953.0...</td>\n",
       "      <td>http://images.amazon.com/images/P/0789466953.0...</td>\n",
       "      <td>http://images.amazon.com/images/P/0789466953.0...</td>\n",
       "    </tr>\n",
       "  </tbody>\n",
       "</table>\n",
       "</div>"
      ],
      "text/plain": [
       "              ISBN                                         Book-Title  \\\n",
       "209538  078946697X  DK Readers: Creating the X-Men, How It All Beg...   \n",
       "220731  2070426769               Peuple du ciel, suivi de Les Bergers   \n",
       "221678  0789466953  DK Readers: Creating the X-Men, How Comic Book...   \n",
       "\n",
       "                         Book-Author Year-Of-Publication          Publisher  \\\n",
       "209538            Michael Teitelbaum                2000  DK Publishing Inc   \n",
       "220731  Jean-Marie Gustave Le Clézio                2003          Gallimard   \n",
       "221678                 James Buckley                2000  DK Publishing Inc   \n",
       "\n",
       "                                              Image-URL-S  \\\n",
       "209538  http://images.amazon.com/images/P/078946697X.0...   \n",
       "220731  http://images.amazon.com/images/P/2070426769.0...   \n",
       "221678  http://images.amazon.com/images/P/0789466953.0...   \n",
       "\n",
       "                                              Image-URL-M  \\\n",
       "209538  http://images.amazon.com/images/P/078946697X.0...   \n",
       "220731  http://images.amazon.com/images/P/2070426769.0...   \n",
       "221678  http://images.amazon.com/images/P/0789466953.0...   \n",
       "\n",
       "                                              Image-URL-L  \n",
       "209538  http://images.amazon.com/images/P/078946697X.0...  \n",
       "220731  http://images.amazon.com/images/P/2070426769.0...  \n",
       "221678  http://images.amazon.com/images/P/0789466953.0...  "
      ]
     },
     "execution_count": 33,
     "metadata": {},
     "output_type": "execute_result"
    }
   ],
   "source": [
    "# 'Book-Title' and 'Book-Author' are in the same column - > split\n",
    "\n",
    "# one more copy for the cycle\n",
    "books = books_raw.copy()\n",
    "\n",
    "for index in indexes:\n",
    "\n",
    "    books_for_cycle = books_raw.copy()\n",
    "   \n",
    "    if 'Jean-Marie Gustave' in books_for_cycle.loc[index, 'Book-Title']:\n",
    "        autor = 'Jean-Marie Gustave Le Clézio'  # J. M. G. Le Clézio\n",
    "        new_title = books_for_cycle.loc[index, 'Book-Title'].split(';')[0].strip(r'\\'\"\\\\').replace(\"\\\\\", \"\").replace(\"'\", \"\").replace('\"', \"\")\n",
    "          \n",
    "        # label indexing\n",
    "        books.loc[index, 'Book-Title'] = new_title\n",
    "        books.loc[index, 'Book-Author'] = autor\n",
    "        \n",
    "    else:\n",
    "        new_title = books_for_cycle.loc[index, 'Book-Title'].split(';')[0].replace('\\\\', '').replace('\"', '').replace(\"'\", '')\n",
    "        autor = books_for_cycle.loc[index, 'Book-Title'].split(';')[-1].replace('\"', '').strip()\n",
    "                \n",
    "        # label indexing\n",
    "        books.loc[index, 'Book-Title'] = new_title\n",
    "        books.loc[index, 'Book-Author'] = autor\n",
    "\n",
    "\n",
    "# check the changes\n",
    "indexes\n",
    "books.loc[[209538, 220731, 221678]]\n"
   ]
  },
  {
   "cell_type": "code",
   "execution_count": 34,
   "metadata": {},
   "outputs": [
    {
     "name": "stdout",
     "output_type": "stream",
     "text": [
      "<class 'pandas.core.frame.DataFrame'>\n",
      "RangeIndex: 271360 entries, 0 to 271359\n",
      "Data columns (total 8 columns):\n",
      " #   Column               Non-Null Count   Dtype \n",
      "---  ------               --------------   ----- \n",
      " 0   ISBN                 271360 non-null  object\n",
      " 1   Book-Title           271360 non-null  object\n",
      " 2   Book-Author          271358 non-null  object\n",
      " 3   Year-Of-Publication  271360 non-null  object\n",
      " 4   Publisher            271358 non-null  object\n",
      " 5   Image-URL-S          271360 non-null  object\n",
      " 6   Image-URL-M          271360 non-null  object\n",
      " 7   Image-URL-L          271360 non-null  object\n",
      "dtypes: object(8)\n",
      "memory usage: 16.6+ MB\n"
     ]
    }
   ],
   "source": [
    "# Checke the values again\n",
    "books.info()"
   ]
  },
  {
   "cell_type": "markdown",
   "metadata": {},
   "source": [
    "### Remove NaN"
   ]
  },
  {
   "cell_type": "code",
   "execution_count": 35,
   "metadata": {},
   "outputs": [
    {
     "name": "stdout",
     "output_type": "stream",
     "text": [
      "<class 'pandas.core.frame.DataFrame'>\n",
      "Index: 271319 entries, 0 to 271359\n",
      "Data columns (total 8 columns):\n",
      " #   Column               Non-Null Count   Dtype \n",
      "---  ------               --------------   ----- \n",
      " 0   ISBN                 271319 non-null  object\n",
      " 1   Book-Title           271319 non-null  object\n",
      " 2   Book-Author          271319 non-null  object\n",
      " 3   Year-Of-Publication  271319 non-null  object\n",
      " 4   Publisher            271319 non-null  object\n",
      " 5   Image-URL-S          271319 non-null  object\n",
      " 6   Image-URL-M          271319 non-null  object\n",
      " 7   Image-URL-L          271319 non-null  object\n",
      "dtypes: object(8)\n",
      "memory usage: 18.6+ MB\n",
      "<class 'pandas.core.frame.DataFrame'>\n",
      "Index: 433671 entries, 1 to 1149779\n",
      "Data columns (total 3 columns):\n",
      " #   Column       Non-Null Count   Dtype \n",
      "---  ------       --------------   ----- \n",
      " 0   User-ID      433671 non-null  int64 \n",
      " 1   ISBN         433671 non-null  object\n",
      " 2   Book-Rating  433671 non-null  int64 \n",
      "dtypes: int64(2), object(1)\n",
      "memory usage: 13.2+ MB\n",
      "None None\n"
     ]
    }
   ],
   "source": [
    "# B) Remove NaN values of the ratings or find the missing value, we won't use info from Publiher column\n",
    "# Check the missing values in Book-Author, Publisher columns\n",
    "\n",
    "missing_publishers = books.loc[books['Publisher'].isnull()]\n",
    "missing_publishers # only two rows\n",
    "\n",
    "missing_publishers = books.loc[books['Book-Author'].isnull()]\n",
    "missing_publishers # only two rows also in the Book-Author column\n",
    "\n",
    "# set the missing values to 'Unknown'\n",
    "books.loc[books['Book-Author'].isnull(), 'Book-Author'] = 'Unknown'\n",
    "books.loc[books['Publisher'].isnull(), 'Publisher'] = 'Unknown'\n",
    "\n",
    "# Check the missing values in Book-Author, Publisher columns\n",
    "books.loc[books['Book-Author'] == 'Unknown'] # remove the rows 'Unknown' from the dataset, we will filter 'Book-Author' in the dropdown\n",
    "books.loc[books['Publisher'] == 'Unknown'] # let in the dataset, we won't use them\n",
    "\n",
    "# indexes to drop\n",
    "indexes_to_drop = books[books['Book-Author'] == 'Unknown'].index\n",
    "\n",
    "# drop rows\n",
    "books = books.drop(indexes_to_drop)\n",
    "\n",
    "# datasets ready to merge\n",
    "print(books.info(), ratings.info())\n"
   ]
  },
  {
   "cell_type": "markdown",
   "metadata": {},
   "source": [
    "### Merge"
   ]
  },
  {
   "cell_type": "code",
   "execution_count": 36,
   "metadata": {},
   "outputs": [],
   "source": [
    "# C) Merge datasets of the ratings, books\n",
    "\n",
    "# print(Fore.BLUE + Back.GREEN + f'IMPROVE 2) acquisition of the ratings from users' + Fore.RESET)\n",
    "# users_ratigs = pd.merge(ratings, books, on=['User-ID'])\n",
    "\n",
    "dataset = pd.merge(ratings, books, on=['ISBN'])\n"
   ]
  },
  {
   "cell_type": "markdown",
   "metadata": {},
   "source": [
    "### Duplicates"
   ]
  },
  {
   "cell_type": "code",
   "execution_count": 37,
   "metadata": {},
   "outputs": [
    {
     "data": {
      "text/plain": [
       "0"
      ]
     },
     "execution_count": 37,
     "metadata": {},
     "output_type": "execute_result"
    }
   ],
   "source": [
    "# D) Remove duplicate rows\n",
    "dataset.duplicated().sum()"
   ]
  },
  {
   "cell_type": "markdown",
   "metadata": {},
   "source": [
    "### Data types"
   ]
  },
  {
   "cell_type": "code",
   "execution_count": 38,
   "metadata": {},
   "outputs": [],
   "source": [
    "# E) Convert data types\n",
    "\n",
    "column_types = {\n",
    "    'User-ID': 'int64',\n",
    "    'ISBN': 'string',\n",
    "    'Book-Rating': 'int64',\n",
    "    'Book-Title': 'string',\n",
    "    'Book-Author': 'string',\n",
    "    'Year-Of-Publication': 'int64',  # nebo 'string', pokud jsou hodnoty smíšené\n",
    "    'Publisher': 'string',\n",
    "    'Image-URL-S': 'string',\n",
    "    'Image-URL-M': 'string',\n",
    "    'Image-URL-L': 'string'\n",
    "}\n",
    "\n",
    "# Data types conversion\n",
    "for column, dtype in column_types.items():\n",
    "    dataset[column] = dataset[column].astype(dtype)\n"
   ]
  },
  {
   "cell_type": "code",
   "execution_count": 39,
   "metadata": {},
   "outputs": [],
   "source": [
    "# lower case\n",
    "columns_to_skip = ['Image-URL-S', 'Image-URL-M', 'Image-URL-L']\n",
    "\n",
    "chosen_lower_columns = dataset[[col for col in dataset.columns if col not in columns_to_skip]]\n",
    "\n",
    "chosen_lower_columns = chosen_lower_columns.apply(lambda col: col.str.lower() if col.dtype == 'string' else col)\n",
    "\n",
    "dataset.update(chosen_lower_columns)"
   ]
  },
  {
   "cell_type": "code",
   "execution_count": 40,
   "metadata": {},
   "outputs": [
    {
     "data": {
      "text/html": [
       "<div>\n",
       "<style scoped>\n",
       "    .dataframe tbody tr th:only-of-type {\n",
       "        vertical-align: middle;\n",
       "    }\n",
       "\n",
       "    .dataframe tbody tr th {\n",
       "        vertical-align: top;\n",
       "    }\n",
       "\n",
       "    .dataframe thead th {\n",
       "        text-align: right;\n",
       "    }\n",
       "</style>\n",
       "<table border=\"1\" class=\"dataframe\">\n",
       "  <thead>\n",
       "    <tr style=\"text-align: right;\">\n",
       "      <th></th>\n",
       "      <th>User-ID</th>\n",
       "      <th>ISBN</th>\n",
       "      <th>Book-Rating</th>\n",
       "      <th>Book-Title</th>\n",
       "      <th>Book-Author</th>\n",
       "      <th>Year-Of-Publication</th>\n",
       "      <th>Publisher</th>\n",
       "      <th>Image-URL-S</th>\n",
       "      <th>Image-URL-M</th>\n",
       "      <th>Image-URL-L</th>\n",
       "    </tr>\n",
       "  </thead>\n",
       "  <tbody>\n",
       "    <tr>\n",
       "      <th>0</th>\n",
       "      <td>276726</td>\n",
       "      <td>0155061224</td>\n",
       "      <td>5</td>\n",
       "      <td>rites of passage</td>\n",
       "      <td>judith rae</td>\n",
       "      <td>2001</td>\n",
       "      <td>heinle</td>\n",
       "      <td>http://images.amazon.com/images/P/0155061224.0...</td>\n",
       "      <td>http://images.amazon.com/images/P/0155061224.0...</td>\n",
       "      <td>http://images.amazon.com/images/P/0155061224.0...</td>\n",
       "    </tr>\n",
       "    <tr>\n",
       "      <th>1</th>\n",
       "      <td>276729</td>\n",
       "      <td>052165615x</td>\n",
       "      <td>3</td>\n",
       "      <td>help!: level 1</td>\n",
       "      <td>philip prowse</td>\n",
       "      <td>1999</td>\n",
       "      <td>cambridge university press</td>\n",
       "      <td>http://images.amazon.com/images/P/052165615X.0...</td>\n",
       "      <td>http://images.amazon.com/images/P/052165615X.0...</td>\n",
       "      <td>http://images.amazon.com/images/P/052165615X.0...</td>\n",
       "    </tr>\n",
       "    <tr>\n",
       "      <th>2</th>\n",
       "      <td>276729</td>\n",
       "      <td>0521795028</td>\n",
       "      <td>6</td>\n",
       "      <td>the amsterdam connection : level 4 (cambridge ...</td>\n",
       "      <td>sue leather</td>\n",
       "      <td>2001</td>\n",
       "      <td>cambridge university press</td>\n",
       "      <td>http://images.amazon.com/images/P/0521795028.0...</td>\n",
       "      <td>http://images.amazon.com/images/P/0521795028.0...</td>\n",
       "      <td>http://images.amazon.com/images/P/0521795028.0...</td>\n",
       "    </tr>\n",
       "    <tr>\n",
       "      <th>3</th>\n",
       "      <td>276744</td>\n",
       "      <td>038550120x</td>\n",
       "      <td>7</td>\n",
       "      <td>a painted house</td>\n",
       "      <td>john grisham</td>\n",
       "      <td>2001</td>\n",
       "      <td>doubleday</td>\n",
       "      <td>http://images.amazon.com/images/P/038550120X.0...</td>\n",
       "      <td>http://images.amazon.com/images/P/038550120X.0...</td>\n",
       "      <td>http://images.amazon.com/images/P/038550120X.0...</td>\n",
       "    </tr>\n",
       "    <tr>\n",
       "      <th>4</th>\n",
       "      <td>276747</td>\n",
       "      <td>0060517794</td>\n",
       "      <td>9</td>\n",
       "      <td>little altars everywhere</td>\n",
       "      <td>rebecca wells</td>\n",
       "      <td>2003</td>\n",
       "      <td>harpertorch</td>\n",
       "      <td>http://images.amazon.com/images/P/0060517794.0...</td>\n",
       "      <td>http://images.amazon.com/images/P/0060517794.0...</td>\n",
       "      <td>http://images.amazon.com/images/P/0060517794.0...</td>\n",
       "    </tr>\n",
       "  </tbody>\n",
       "</table>\n",
       "</div>"
      ],
      "text/plain": [
       "   User-ID        ISBN  Book-Rating  \\\n",
       "0   276726  0155061224            5   \n",
       "1   276729  052165615x            3   \n",
       "2   276729  0521795028            6   \n",
       "3   276744  038550120x            7   \n",
       "4   276747  0060517794            9   \n",
       "\n",
       "                                          Book-Title    Book-Author  \\\n",
       "0                                   rites of passage     judith rae   \n",
       "1                                     help!: level 1  philip prowse   \n",
       "2  the amsterdam connection : level 4 (cambridge ...    sue leather   \n",
       "3                                    a painted house   john grisham   \n",
       "4                           little altars everywhere  rebecca wells   \n",
       "\n",
       "   Year-Of-Publication                   Publisher  \\\n",
       "0                 2001                      heinle   \n",
       "1                 1999  cambridge university press   \n",
       "2                 2001  cambridge university press   \n",
       "3                 2001                   doubleday   \n",
       "4                 2003                 harpertorch   \n",
       "\n",
       "                                         Image-URL-S  \\\n",
       "0  http://images.amazon.com/images/P/0155061224.0...   \n",
       "1  http://images.amazon.com/images/P/052165615X.0...   \n",
       "2  http://images.amazon.com/images/P/0521795028.0...   \n",
       "3  http://images.amazon.com/images/P/038550120X.0...   \n",
       "4  http://images.amazon.com/images/P/0060517794.0...   \n",
       "\n",
       "                                         Image-URL-M  \\\n",
       "0  http://images.amazon.com/images/P/0155061224.0...   \n",
       "1  http://images.amazon.com/images/P/052165615X.0...   \n",
       "2  http://images.amazon.com/images/P/0521795028.0...   \n",
       "3  http://images.amazon.com/images/P/038550120X.0...   \n",
       "4  http://images.amazon.com/images/P/0060517794.0...   \n",
       "\n",
       "                                         Image-URL-L  \n",
       "0  http://images.amazon.com/images/P/0155061224.0...  \n",
       "1  http://images.amazon.com/images/P/052165615X.0...  \n",
       "2  http://images.amazon.com/images/P/0521795028.0...  \n",
       "3  http://images.amazon.com/images/P/038550120X.0...  \n",
       "4  http://images.amazon.com/images/P/0060517794.0...  "
      ]
     },
     "execution_count": 40,
     "metadata": {},
     "output_type": "execute_result"
    }
   ],
   "source": [
    "dataset.head()"
   ]
  },
  {
   "cell_type": "markdown",
   "metadata": {},
   "source": [
    "### Save the cleansed and merged data"
   ]
  },
  {
   "cell_type": "code",
   "execution_count": 41,
   "metadata": {},
   "outputs": [],
   "source": [
    "# F) Save the cleaned data\n",
    "\n",
    "dataset.to_csv('Cleaned_Book_ETL.csv', index=False)"
   ]
  }
 ],
 "metadata": {
  "kernelspec": {
   "display_name": "base",
   "language": "python",
   "name": "python3"
  },
  "language_info": {
   "codemirror_mode": {
    "name": "ipython",
    "version": 3
   },
   "file_extension": ".py",
   "mimetype": "text/x-python",
   "name": "python",
   "nbconvert_exporter": "python",
   "pygments_lexer": "ipython3",
   "version": "3.12.7"
  }
 },
 "nbformat": 4,
 "nbformat_minor": 2
}
