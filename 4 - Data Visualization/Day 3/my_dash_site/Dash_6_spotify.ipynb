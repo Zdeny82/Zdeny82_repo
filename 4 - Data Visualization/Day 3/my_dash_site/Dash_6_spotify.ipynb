{
 "cells": [
  {
   "cell_type": "code",
   "execution_count": 37,
   "metadata": {},
   "outputs": [],
   "source": [
    "import dash\n",
    "import threading\n",
    "import plotly.express as px\n",
    "from dash import dcc\n",
    "from dash import html\n",
    "from dash.dependencies import Output, Input, State\n",
    "import pandas as pd\n",
    "\n"
   ]
  },
  {
   "cell_type": "code",
   "execution_count": 38,
   "metadata": {},
   "outputs": [],
   "source": [
    "spoty_df = pd.read_csv('spotify_top100.csv')\n",
    "spoty_df = spoty_df.dropna()"
   ]
  },
  {
   "cell_type": "code",
   "execution_count": null,
   "metadata": {},
   "outputs": [],
   "source": [
    "numeric_cols = spoty_df.select_dtypes(include=['float', 'int']).columns\n",
    "spoty_df[numeric_cols] = spoty_df[numeric_cols].round(0).astype(int)"
   ]
  },
  {
   "cell_type": "code",
   "execution_count": null,
   "metadata": {},
   "outputs": [],
   "source": [
    "\n",
    "marks_labels = {int(x) : str(x) for x in spoty_df_list}\n",
    "marks_labels"
   ]
  },
  {
   "cell_type": "code",
   "execution_count": null,
   "metadata": {},
   "outputs": [],
   "source": [
    "app = dash.Dash(__name__)\n",
    "\n",
    "app.layout = html.Div(children=\n",
    "                      [\n",
    "                        html.H1(id='h1', children='Spotify top 100'),\n",
    "                        dcc.Slider(id='slider',\n",
    "                                     value=2010,\n",
    "                                     step = 1,\n",
    "                                     marks=marks_labels),\n",
    "                                                \n",
    "                        dcc.Graph(id='graph', \n",
    "                                  figure=px.bar(data_frame=spoty_df,\n",
    "                                                x = list(spoty_df[['bpm', 'top year']].groupby('top year').agg('mean').index),\n",
    "                                                y = list(spoty_df[['bpm', 'top year']].groupby('top year').agg('mean').values.squeeze()),\n",
    "                                                labels=list(spoty_df[['bpm', 'top year']].groupby('top year').agg('mean').values.squeeze()))),\n",
    "\n",
    "                        dcc.Dropdown(id='drop', \n",
    "                                     value= list(spoty_df[['nrgy', 'dB', 'live', 'val', 'dnce']].columns)[0],\n",
    "                                     options= list(spoty_df[['nrgy', 'dB', 'live', 'val', 'dnce']].columns),\n",
    "                                     placeholder='Select a category'\n",
    "\n",
    "                                     )                    \n",
    "                         \n",
    "                      ])\n",
    "\n",
    "@app.callback(\n",
    "        Output(component_id='graph', component_property='figure'),\n",
    "        Input(component_id='slider', component_property='value'),\n",
    "        State(component_id='drop', component_property= 'value')\n",
    ")\n",
    "\n",
    "def update_function(slider_value, dropd_value):\n",
    "    \n",
    "    # Debugging: Zobrazení vstupních hodnot\n",
    "    # print(f\"Slider Value: {slider_value}\")\n",
    "    # print(f\"Dropdown Value: {dropd_value}\")\n",
    "    \n",
    "    numeric_columns = list(spoty_df[['nrgy', 'dB', 'live', 'val', 'dnce']].columns)\n",
    "\n",
    "    \n",
    "    filtered_df = spoty_df[spoty_df['top year'] == int(slider_value)]\n",
    "\n",
    "    figure = px.bar(data_frame=filtered_df.head(15),\n",
    "                    x = 'title', \n",
    "                    y = 'nrgy' if dropd_value == numeric_columns[0] else dropd_value,\n",
    "                    height=800)\n",
    "    \n",
    "    layout_updates = dict(\n",
    "        xaxis=dict(\n",
    "        tickangle=45,\n",
    "        automargin=True,\n",
    "        categoryorder='total descending'))\n",
    "    \n",
    "    figure.update_layout(**layout_updates)\n",
    "    \n",
    "    return figure\n",
    "    \n",
    "if __name__ == '__main__':\n",
    "    app.run(host='127.0.0.1', port= 3500, debug=True)\n",
    "\n",
    "\n"
   ]
  }
 ],
 "metadata": {
  "kernelspec": {
   "display_name": "base",
   "language": "python",
   "name": "python3"
  },
  "language_info": {
   "codemirror_mode": {
    "name": "ipython",
    "version": 3
   },
   "file_extension": ".py",
   "mimetype": "text/x-python",
   "name": "python",
   "nbconvert_exporter": "python",
   "pygments_lexer": "ipython3",
   "version": "3.12.3"
  }
 },
 "nbformat": 4,
 "nbformat_minor": 2
}
